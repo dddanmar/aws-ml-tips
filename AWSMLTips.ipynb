{
 "cells": [
  {
   "cell_type": "markdown",
   "metadata": {},
   "source": [
    "# AWS ML Example\n",
    "\n",
    "## Python, Boto, AWS ML and Horse Racing Tips\n",
    "\n",
    "Using AWS Machine learning, we will try to predcit if a tipster is going to be correct about a particular horse winning a race."
   ]
  },
  {
   "cell_type": "markdown",
   "metadata": {},
   "source": [
    "### Import Libraries\n",
    "\n",
    "- boto3 -- library for interacting with the AWS APIs.\n",
    "- matplotlib -- library for graphing\n",
    "- pandas -- library for data analysis\n",
    "- numpy -- library for array processing\n",
    "- sklearn -- library for Python machine learning\n",
    "- fbprophet -- library for time series forecasting\n",
    "- datetime/calendar -- libraries for datetime stuff\n",
    "- json -- library for json formats\n",
    "- time -- library for time, also used on Gallifrey"
   ]
  },
  {
   "cell_type": "code",
   "execution_count": 62,
   "metadata": {
    "collapsed": false
   },
   "outputs": [],
   "source": [
    "import boto3\n",
    "import matplotlib.pyplot as plt\n",
    "import pandas as pd\n",
    "import numpy as np\n",
    "from sklearn.model_selection import train_test_split, GridSearchCV\n",
    "from sklearn.preprocessing import LabelEncoder, scale, normalize\n",
    "from sklearn.ensemble import RandomForestClassifier\n",
    "from fbprophet import Prophet\n",
    "from datetime import datetime\n",
    "import json\n",
    "import calendar\n",
    "import time\n",
    "%matplotlib inline"
   ]
  },
  {
   "cell_type": "code",
   "execution_count": 63,
   "metadata": {
    "collapsed": true
   },
   "outputs": [],
   "source": [
    "def default(obj):\n",
    "    \"\"\"Default JSON serializer.\"\"\"\n",
    "    import calendar, datetime\n",
    "\n",
    "    if isinstance(obj, datetime.datetime):\n",
    "        if obj.utcoffset() is not None:\n",
    "            obj = obj - obj.utcoffset()\n",
    "        millis = int(\n",
    "            calendar.timegm(obj.timetuple()) * 1000 +\n",
    "            obj.microsecond / 1000\n",
    "        )\n",
    "        return millis\n",
    "    raise TypeError('Not sure how to serialize %s' % (obj,))"
   ]
  },
  {
   "cell_type": "markdown",
   "metadata": {},
   "source": [
    "### Load the training data\n",
    "\n",
    "Our training data includes details and results for tips in the past."
   ]
  },
  {
   "cell_type": "code",
   "execution_count": 64,
   "metadata": {
    "collapsed": false
   },
   "outputs": [],
   "source": [
    "tips_df = pd.read_csv(\"tip_results.csv\", encoding='latin1')"
   ]
  },
  {
   "cell_type": "markdown",
   "metadata": {},
   "source": [
    "### View training data"
   ]
  },
  {
   "cell_type": "markdown",
   "metadata": {},
   "source": [
    "- View Columns"
   ]
  },
  {
   "cell_type": "code",
   "execution_count": 65,
   "metadata": {
    "collapsed": false
   },
   "outputs": [
    {
     "data": {
      "text/plain": [
       "Index(['horse', 'track', 'race_number', 'race_date', 'tipster',\n",
       "       'next_best_bet', 'value_bet', 'best_bet', 'career_3rds',\n",
       "       'spells_secondup_3rd', 'career_2nds', 'spells_firstup_1st',\n",
       "       'spells_firstup_place', 'spells_thirdup_odds', 'spells_thirdup_1st',\n",
       "       'career_places', 'spells_secondup_1st', 'earnings',\n",
       "       'twelve_months_wins', 'spells_thirdup_roi', 'twelve_months_odds',\n",
       "       'spells_thirdup_place', 'twelve_months_1sts', 'career_1sts',\n",
       "       'career_roi', 'twelve_months_starts', 'spells_thirdup_3rd',\n",
       "       'twelve_months_2nds', 'spells_thirdup_win', 'career_wins',\n",
       "       'spells_secondup_roi', 'spells_secondup_starts', 'career_odds',\n",
       "       'spells_secondup_2nd', 'age_in_years', 'career_starts',\n",
       "       'spells_firstup_win', 'spells_firstup_2nd', 'rating',\n",
       "       'spells_secondup_win', 'twelve_months_roi', 'spells_secondup_place',\n",
       "       'spells_thirdup_starts', 'twelve_months_3rds', 'spells_firstup_starts',\n",
       "       'spells_secondup_odds', 'twelve_months_places', 'spells_firstup_odds',\n",
       "       'spells_firstup_roi', 'spells_firstup_3rd', 'spells_thirdup_2nd',\n",
       "       'money'],\n",
       "      dtype='object')"
      ]
     },
     "execution_count": 65,
     "metadata": {},
     "output_type": "execute_result"
    }
   ],
   "source": [
    "tips_df.columns"
   ]
  },
  {
   "cell_type": "markdown",
   "metadata": {},
   "source": [
    "- View Data Types"
   ]
  },
  {
   "cell_type": "code",
   "execution_count": 66,
   "metadata": {
    "collapsed": false,
    "scrolled": false
   },
   "outputs": [
    {
     "data": {
      "text/plain": [
       "horse                      object\n",
       "track                      object\n",
       "race_number                 int64\n",
       "race_date                  object\n",
       "tipster                     int64\n",
       "next_best_bet                bool\n",
       "value_bet                    bool\n",
       "best_bet                     bool\n",
       "career_3rds               float64\n",
       "spells_secondup_3rd       float64\n",
       "career_2nds               float64\n",
       "spells_firstup_1st        float64\n",
       "spells_firstup_place      float64\n",
       "spells_thirdup_odds       float64\n",
       "spells_thirdup_1st        float64\n",
       "career_places             float64\n",
       "spells_secondup_1st       float64\n",
       "earnings                  float64\n",
       "twelve_months_wins        float64\n",
       "spells_thirdup_roi        float64\n",
       "twelve_months_odds        float64\n",
       "spells_thirdup_place      float64\n",
       "twelve_months_1sts        float64\n",
       "career_1sts               float64\n",
       "career_roi                float64\n",
       "twelve_months_starts      float64\n",
       "spells_thirdup_3rd        float64\n",
       "twelve_months_2nds        float64\n",
       "spells_thirdup_win        float64\n",
       "career_wins               float64\n",
       "spells_secondup_roi       float64\n",
       "spells_secondup_starts    float64\n",
       "career_odds               float64\n",
       "spells_secondup_2nd       float64\n",
       "age_in_years              float64\n",
       "career_starts             float64\n",
       "spells_firstup_win        float64\n",
       "spells_firstup_2nd        float64\n",
       "rating                    float64\n",
       "spells_secondup_win       float64\n",
       "twelve_months_roi         float64\n",
       "spells_secondup_place     float64\n",
       "spells_thirdup_starts     float64\n",
       "twelve_months_3rds        float64\n",
       "spells_firstup_starts     float64\n",
       "spells_secondup_odds      float64\n",
       "twelve_months_places      float64\n",
       "spells_firstup_odds       float64\n",
       "spells_firstup_roi        float64\n",
       "spells_firstup_3rd        float64\n",
       "spells_thirdup_2nd        float64\n",
       "money                        bool\n",
       "dtype: object"
      ]
     },
     "execution_count": 66,
     "metadata": {},
     "output_type": "execute_result"
    }
   ],
   "source": [
    "tips_df.dtypes"
   ]
  },
  {
   "cell_type": "markdown",
   "metadata": {},
   "source": [
    "- View First 5 Records"
   ]
  },
  {
   "cell_type": "code",
   "execution_count": 67,
   "metadata": {
    "collapsed": false
   },
   "outputs": [
    {
     "data": {
      "text/html": [
       "<div>\n",
       "<table border=\"1\" class=\"dataframe\">\n",
       "  <thead>\n",
       "    <tr style=\"text-align: right;\">\n",
       "      <th></th>\n",
       "      <th>horse</th>\n",
       "      <th>track</th>\n",
       "      <th>race_number</th>\n",
       "      <th>race_date</th>\n",
       "      <th>tipster</th>\n",
       "      <th>next_best_bet</th>\n",
       "      <th>value_bet</th>\n",
       "      <th>best_bet</th>\n",
       "      <th>career_3rds</th>\n",
       "      <th>spells_secondup_3rd</th>\n",
       "      <th>...</th>\n",
       "      <th>spells_thirdup_starts</th>\n",
       "      <th>twelve_months_3rds</th>\n",
       "      <th>spells_firstup_starts</th>\n",
       "      <th>spells_secondup_odds</th>\n",
       "      <th>twelve_months_places</th>\n",
       "      <th>spells_firstup_odds</th>\n",
       "      <th>spells_firstup_roi</th>\n",
       "      <th>spells_firstup_3rd</th>\n",
       "      <th>spells_thirdup_2nd</th>\n",
       "      <th>money</th>\n",
       "    </tr>\n",
       "  </thead>\n",
       "  <tbody>\n",
       "    <tr>\n",
       "      <th>0</th>\n",
       "      <td>Wazamba</td>\n",
       "      <td>Moonee Valley</td>\n",
       "      <td>2</td>\n",
       "      <td>2016-03-14</td>\n",
       "      <td>1</td>\n",
       "      <td>False</td>\n",
       "      <td>False</td>\n",
       "      <td>False</td>\n",
       "      <td>1.0</td>\n",
       "      <td>0.0</td>\n",
       "      <td>...</td>\n",
       "      <td>0.0</td>\n",
       "      <td>1.0</td>\n",
       "      <td>0.0</td>\n",
       "      <td>2.6</td>\n",
       "      <td>0.75</td>\n",
       "      <td>0.00</td>\n",
       "      <td>100.0</td>\n",
       "      <td>1.0</td>\n",
       "      <td>2.0</td>\n",
       "      <td>False</td>\n",
       "    </tr>\n",
       "    <tr>\n",
       "      <th>1</th>\n",
       "      <td>Sistine Star</td>\n",
       "      <td>Ballarat</td>\n",
       "      <td>8</td>\n",
       "      <td>2016-03-15</td>\n",
       "      <td>1</td>\n",
       "      <td>False</td>\n",
       "      <td>False</td>\n",
       "      <td>False</td>\n",
       "      <td>5.0</td>\n",
       "      <td>2.0</td>\n",
       "      <td>...</td>\n",
       "      <td>1.0</td>\n",
       "      <td>2.0</td>\n",
       "      <td>0.0</td>\n",
       "      <td>0.0</td>\n",
       "      <td>0.29</td>\n",
       "      <td>0.00</td>\n",
       "      <td>100.0</td>\n",
       "      <td>2.0</td>\n",
       "      <td>0.0</td>\n",
       "      <td>False</td>\n",
       "    </tr>\n",
       "    <tr>\n",
       "      <th>2</th>\n",
       "      <td>Aspidistra</td>\n",
       "      <td>Ballarat</td>\n",
       "      <td>5</td>\n",
       "      <td>2016-03-15</td>\n",
       "      <td>1</td>\n",
       "      <td>False</td>\n",
       "      <td>False</td>\n",
       "      <td>False</td>\n",
       "      <td>1.0</td>\n",
       "      <td>0.0</td>\n",
       "      <td>...</td>\n",
       "      <td>1.0</td>\n",
       "      <td>0.0</td>\n",
       "      <td>0.0</td>\n",
       "      <td>3.7</td>\n",
       "      <td>0.40</td>\n",
       "      <td>0.00</td>\n",
       "      <td>100.0</td>\n",
       "      <td>1.0</td>\n",
       "      <td>0.0</td>\n",
       "      <td>True</td>\n",
       "    </tr>\n",
       "    <tr>\n",
       "      <th>3</th>\n",
       "      <td>Montana</td>\n",
       "      <td>Ballarat</td>\n",
       "      <td>2</td>\n",
       "      <td>2016-03-15</td>\n",
       "      <td>1</td>\n",
       "      <td>False</td>\n",
       "      <td>False</td>\n",
       "      <td>False</td>\n",
       "      <td>2.0</td>\n",
       "      <td>0.0</td>\n",
       "      <td>...</td>\n",
       "      <td>0.0</td>\n",
       "      <td>2.0</td>\n",
       "      <td>0.0</td>\n",
       "      <td>0.0</td>\n",
       "      <td>0.67</td>\n",
       "      <td>0.00</td>\n",
       "      <td>100.0</td>\n",
       "      <td>1.0</td>\n",
       "      <td>1.0</td>\n",
       "      <td>False</td>\n",
       "    </tr>\n",
       "    <tr>\n",
       "      <th>4</th>\n",
       "      <td>Prompt Return</td>\n",
       "      <td>Gosford</td>\n",
       "      <td>7</td>\n",
       "      <td>2016-03-17</td>\n",
       "      <td>1</td>\n",
       "      <td>False</td>\n",
       "      <td>False</td>\n",
       "      <td>False</td>\n",
       "      <td>1.0</td>\n",
       "      <td>0.0</td>\n",
       "      <td>...</td>\n",
       "      <td>0.0</td>\n",
       "      <td>1.0</td>\n",
       "      <td>2.0</td>\n",
       "      <td>11.3</td>\n",
       "      <td>0.50</td>\n",
       "      <td>2.48</td>\n",
       "      <td>24.0</td>\n",
       "      <td>0.0</td>\n",
       "      <td>2.0</td>\n",
       "      <td>False</td>\n",
       "    </tr>\n",
       "  </tbody>\n",
       "</table>\n",
       "<p>5 rows × 52 columns</p>\n",
       "</div>"
      ],
      "text/plain": [
       "           horse          track  race_number   race_date  tipster  \\\n",
       "0        Wazamba  Moonee Valley            2  2016-03-14        1   \n",
       "1   Sistine Star       Ballarat            8  2016-03-15        1   \n",
       "2     Aspidistra       Ballarat            5  2016-03-15        1   \n",
       "3        Montana       Ballarat            2  2016-03-15        1   \n",
       "4  Prompt Return        Gosford            7  2016-03-17        1   \n",
       "\n",
       "  next_best_bet value_bet best_bet  career_3rds  spells_secondup_3rd  ...    \\\n",
       "0         False     False    False          1.0                  0.0  ...     \n",
       "1         False     False    False          5.0                  2.0  ...     \n",
       "2         False     False    False          1.0                  0.0  ...     \n",
       "3         False     False    False          2.0                  0.0  ...     \n",
       "4         False     False    False          1.0                  0.0  ...     \n",
       "\n",
       "   spells_thirdup_starts  twelve_months_3rds  spells_firstup_starts  \\\n",
       "0                    0.0                 1.0                    0.0   \n",
       "1                    1.0                 2.0                    0.0   \n",
       "2                    1.0                 0.0                    0.0   \n",
       "3                    0.0                 2.0                    0.0   \n",
       "4                    0.0                 1.0                    2.0   \n",
       "\n",
       "   spells_secondup_odds  twelve_months_places  spells_firstup_odds  \\\n",
       "0                   2.6                  0.75                 0.00   \n",
       "1                   0.0                  0.29                 0.00   \n",
       "2                   3.7                  0.40                 0.00   \n",
       "3                   0.0                  0.67                 0.00   \n",
       "4                  11.3                  0.50                 2.48   \n",
       "\n",
       "   spells_firstup_roi  spells_firstup_3rd  spells_thirdup_2nd  money  \n",
       "0               100.0                 1.0                 2.0  False  \n",
       "1               100.0                 2.0                 0.0  False  \n",
       "2               100.0                 1.0                 0.0   True  \n",
       "3               100.0                 1.0                 1.0  False  \n",
       "4                24.0                 0.0                 2.0  False  \n",
       "\n",
       "[5 rows x 52 columns]"
      ]
     },
     "execution_count": 67,
     "metadata": {},
     "output_type": "execute_result"
    }
   ],
   "source": [
    "tips_df.head(n=5)"
   ]
  },
  {
   "cell_type": "markdown",
   "metadata": {},
   "source": [
    "### Convert objects types"
   ]
  },
  {
   "cell_type": "code",
   "execution_count": 68,
   "metadata": {
    "collapsed": false
   },
   "outputs": [],
   "source": [
    "tips_df['race_date'] = pd.to_datetime(tips_df['race_date'], dayfirst=True)"
   ]
  },
  {
   "cell_type": "markdown",
   "metadata": {},
   "source": [
    "### Investigate Tipster Performance"
   ]
  },
  {
   "cell_type": "code",
   "execution_count": 69,
   "metadata": {
    "collapsed": false
   },
   "outputs": [
    {
     "data": {
      "text/plain": [
       "<matplotlib.axes._subplots.AxesSubplot at 0x7f63bcc205c0>"
      ]
     },
     "execution_count": 69,
     "metadata": {},
     "output_type": "execute_result"
    },
    {
     "data": {
      "image/png": "[encoded data removed]",
      "text/plain": [
       "<matplotlib.figure.Figure at 0x7f63bcc2d588>"
      ]
     },
     "metadata": {},
     "output_type": "display_data"
    }
   ],
   "source": [
    "cross_tab = pd.crosstab(tips_df['tipster'], tips_df['money'], margins=True)\n",
    "def perConvert(ser):\n",
    "    return ser/float(ser[-1])\n",
    "cross_tab1 = cross_tab.apply(perConvert, axis=1)\n",
    "cross_tab1.iloc[:-1,:-1].plot(kind='bar', stacked=True, color=['red', 'blue'], grid=False)"
   ]
  },
  {
   "cell_type": "code",
   "execution_count": 70,
   "metadata": {
    "collapsed": false
   },
   "outputs": [
    {
     "name": "stdout",
     "output_type": "stream",
     "text": [
      "False    5555\n",
      "True     1655\n",
      "Name: money, dtype: int64\n",
      "~~~~~~~~~~~~~~~~~~~~~~~~~~~~~~\n",
      "False    77.04577\n",
      "True     22.95423\n",
      "Name: money, dtype: float64\n"
     ]
    }
   ],
   "source": [
    "print(tips_df['money'].value_counts())\n",
    "print('~'*30)\n",
    "print(tips_df['money'].value_counts()/tips_df.money.shape[0]*100)"
   ]
  },
  {
   "cell_type": "markdown",
   "metadata": {},
   "source": [
    "### Split the two tipsters into seperate DataFrames"
   ]
  },
  {
   "cell_type": "code",
   "execution_count": 71,
   "metadata": {
    "collapsed": false
   },
   "outputs": [],
   "source": [
    "tipster_1 = tips_df.loc[tips_df['tipster'] == 1]\n",
    "tipster_2 = tips_df.loc[tips_df['tipster'] == 2]"
   ]
  },
  {
   "cell_type": "markdown",
   "metadata": {},
   "source": [
    "### Create a new dataset for fbprophet"
   ]
  },
  {
   "cell_type": "code",
   "execution_count": 72,
   "metadata": {
    "collapsed": false
   },
   "outputs": [],
   "source": [
    "count = 1000\n",
    "tipster1_forecast_data = []\n",
    "tipster2_forecast_data = []\n",
    "for idx, val in enumerate(tipster_1['money']):\n",
    "    if val:\n",
    "        count += 1\n",
    "        tipster1_forecast_data.append({\"ds\":datetime.fromordinal(idx+730000),\"y\":count})\n",
    "    else:\n",
    "        count -= 1\n",
    "        tipster1_forecast_data.append({\"ds\":datetime.fromordinal(idx+730000),\"y\":count})      \n",
    "count = 1000\n",
    "forecast_data = []\n",
    "for idx, val in enumerate(tipster_2['money']):\n",
    "    if val:\n",
    "        count += 1\n",
    "        tipster2_forecast_data.append({\"ds\":datetime.fromordinal(idx+730000),\"y\":count})\n",
    "    else:\n",
    "        count -= 1\n",
    "        tipster2_forecast_data.append({\"ds\":datetime.fromordinal(idx+730000),\"y\":count})    "
   ]
  },
  {
   "cell_type": "code",
   "execution_count": 73,
   "metadata": {
    "collapsed": false
   },
   "outputs": [
    {
     "name": "stdout",
     "output_type": "stream",
     "text": [
      "1354\n",
      "5856\n"
     ]
    }
   ],
   "source": [
    "print(len(tipster1_forecast_data))\n",
    "print(len(tipster2_forecast_data))"
   ]
  },
  {
   "cell_type": "markdown",
   "metadata": {},
   "source": [
    "### Fit data to Prophet"
   ]
  },
  {
   "cell_type": "code",
   "execution_count": 74,
   "metadata": {
    "collapsed": false
   },
   "outputs": [],
   "source": [
    "tipster1_m = Prophet()\n",
    "tipster1_m.fit(pd.DataFrame(tipster1_forecast_data));\n",
    "tipster2_m = Prophet()\n",
    "tipster2_m.fit(pd.DataFrame(tipster2_forecast_data));"
   ]
  },
  {
   "cell_type": "code",
   "execution_count": 75,
   "metadata": {
    "collapsed": false
   },
   "outputs": [],
   "source": [
    "tipster1_future = tipster1_m.make_future_dataframe(periods=1000)\n",
    "tipster2_future = tipster2_m.make_future_dataframe(periods=1000)"
   ]
  },
  {
   "cell_type": "markdown",
   "metadata": {},
   "source": [
    "### Predict next period"
   ]
  },
  {
   "cell_type": "code",
   "execution_count": 76,
   "metadata": {
    "collapsed": false
   },
   "outputs": [],
   "source": [
    "tipster1_forecast = tipster1_m.predict(tipster1_future)\n",
    "tipster2_forecast = tipster2_m.predict(tipster2_future)"
   ]
  },
  {
   "cell_type": "markdown",
   "metadata": {},
   "source": [
    "### Plot Predictions"
   ]
  },
  {
   "cell_type": "code",
   "execution_count": 77,
   "metadata": {
    "collapsed": false
   },
   "outputs": [
    {
     "data": {
      "image/png": "[encoded data removed]",
      "text/plain": [
       "<matplotlib.figure.Figure at 0x7f63be9c1dd8>"
      ]
     },
     "metadata": {},
     "output_type": "display_data"
    }
   ],
   "source": [
    "tipster1_m.plot(tipster1_forecast);"
   ]
  },
  {
   "cell_type": "code",
   "execution_count": 78,
   "metadata": {
    "collapsed": false
   },
   "outputs": [
    {
     "data": {
      "image/png": "[encoded data removed]",
      "text/plain": [
       "<matplotlib.figure.Figure at 0x7f63bef06518>"
      ]
     },
     "metadata": {},
     "output_type": "display_data"
    }
   ],
   "source": [
    "tipster2_m.plot(tipster2_forecast);"
   ]
  },
  {
   "cell_type": "markdown",
   "metadata": {},
   "source": [
    "### Upload Training Data to S3"
   ]
  },
  {
   "cell_type": "code",
   "execution_count": 79,
   "metadata": {
    "collapsed": false
   },
   "outputs": [
    {
     "name": "stderr",
     "output_type": "stream",
     "text": [
      "INFO:botocore.vendored.requests.packages.urllib3.connectionpool:Resetting dropped connection: ml-talk.s3.amazonaws.com\n"
     ]
    }
   ],
   "source": [
    "s3.Bucket('ml-talk').upload_file(\"tip_results.csv\",\"tip_results.csv\") "
   ]
  },
  {
   "cell_type": "markdown",
   "metadata": {
    "collapsed": true
   },
   "source": [
    "### Create AWS ML Data Data Scheme"
   ]
  },
  {
   "cell_type": "code",
   "execution_count": 80,
   "metadata": {
    "collapsed": true
   },
   "outputs": [],
   "source": [
    "data_scheme = {\n",
    "    \"version\": \"1.0\",\n",
    "    \"targetFieldName\": \"money\",\n",
    "    \"dataFormat\": \"CSV\",\n",
    "    \"dataFileContainsHeader\": True,\n",
    "    \"attributes\": [{\n",
    "        \"fieldName\": \"horse\",\n",
    "        \"fieldType\": \"CATEGORICAL\"\n",
    "    }, \n",
    "    {\n",
    "        \"fieldName\": \"track\",\n",
    "        \"fieldType\": \"CATEGORICAL\"\n",
    "    },\n",
    "    {\n",
    "        \"fieldName\": \"race_number\",\n",
    "        \"fieldType\": \"CATEGORICAL\"\n",
    "    },        \n",
    "    {\n",
    "        \"fieldName\": \"race_date\",\n",
    "        \"fieldType\": \"CATEGORICAL\"\n",
    "    },\n",
    "    {\n",
    "        \"fieldName\": \"tipster\",\n",
    "        \"fieldType\": \"CATEGORICAL\"\n",
    "    },\n",
    "    {\n",
    "        \"fieldName\": \"next_best_bet\",\n",
    "        \"fieldType\": \"BINARY\"\n",
    "    },\n",
    "    {\n",
    "        \"fieldName\": \"value_bet\",\n",
    "        \"fieldType\": \"BINARY\"\n",
    "    },\n",
    "    {\n",
    "        \"fieldName\": \"best_bet\",\n",
    "        \"fieldType\": \"BINARY\"\n",
    "    },\n",
    "    {\n",
    "        \"fieldName\": \"career_3rds\",\n",
    "        \"fieldType\": \"NUMERIC\"\n",
    "    },\n",
    "    {\n",
    "        \"fieldName\": \"spells_secondup_3rd\",\n",
    "        \"fieldType\": \"NUMERIC\"\n",
    "    },\n",
    "    {\n",
    "        \"fieldName\": \"career_2nds\",\n",
    "        \"fieldType\": \"NUMERIC\"\n",
    "    },\n",
    "    {\n",
    "        \"fieldName\": \"spells_firstup_1st\",\n",
    "        \"fieldType\": \"NUMERIC\"\n",
    "    },\n",
    "    {\n",
    "        \"fieldName\": \"spells_firstup_place\",\n",
    "        \"fieldType\": \"NUMERIC\"\n",
    "    },\n",
    "    {\n",
    "        \"fieldName\": \"spells_thirdup_odds\",\n",
    "        \"fieldType\": \"NUMERIC\"\n",
    "    },\n",
    "    {\n",
    "        \"fieldName\": \"spells_thirdup_1st\",\n",
    "        \"fieldType\": \"NUMERIC\"\n",
    "    },\n",
    "    {\n",
    "        \"fieldName\": \"career_places\",\n",
    "        \"fieldType\": \"NUMERIC\"\n",
    "    },\n",
    "    {\n",
    "        \"fieldName\": \"spells_secondup_1st\",\n",
    "        \"fieldType\": \"NUMERIC\"\n",
    "    },\n",
    "    {\n",
    "        \"fieldName\": \"earnings\",\n",
    "        \"fieldType\": \"NUMERIC\"\n",
    "    },\n",
    "    {\n",
    "        \"fieldName\": \"twelve_months_wins\",\n",
    "        \"fieldType\": \"NUMERIC\"\n",
    "    },\n",
    "    {\n",
    "        \"fieldName\": \"spells_thirdup_roi\",\n",
    "        \"fieldType\": \"NUMERIC\"\n",
    "    },\n",
    "    {\n",
    "        \"fieldName\": \"twelve_months_odds\",\n",
    "        \"fieldType\": \"NUMERIC\"\n",
    "    },\n",
    "    {\n",
    "        \"fieldName\": \"spells_thirdup_place\",\n",
    "        \"fieldType\": \"NUMERIC\"\n",
    "    },\n",
    "    {\n",
    "        \"fieldName\": \"twelve_months_1sts\",\n",
    "        \"fieldType\": \"NUMERIC\"\n",
    "    },\n",
    "    {\n",
    "        \"fieldName\": \"career_1sts\",\n",
    "        \"fieldType\": \"NUMERIC\"\n",
    "    },\n",
    "    {\n",
    "        \"fieldName\": \"career_roi\",\n",
    "        \"fieldType\": \"NUMERIC\"\n",
    "    },\n",
    "    {\n",
    "        \"fieldName\": \"twelve_months_starts\",\n",
    "        \"fieldType\": \"NUMERIC\"\n",
    "    },\n",
    "    {\n",
    "        \"fieldName\": \"spells_thirdup_3rd\",\n",
    "        \"fieldType\": \"NUMERIC\"\n",
    "    },\n",
    "    {\n",
    "        \"fieldName\": \"twelve_months_2nds\",\n",
    "        \"fieldType\": \"NUMERIC\"\n",
    "    },\n",
    "    {\n",
    "        \"fieldName\": \"spells_thirdup_win\",\n",
    "        \"fieldType\": \"NUMERIC\"\n",
    "    },\n",
    "    {\n",
    "        \"fieldName\": \"career_wins\",\n",
    "        \"fieldType\": \"NUMERIC\"\n",
    "    },\n",
    "    {\n",
    "        \"fieldName\": \"spells_secondup_roi\",\n",
    "        \"fieldType\": \"NUMERIC\"\n",
    "    },\n",
    "    {\n",
    "        \"fieldName\": \"spells_secondup_starts\",\n",
    "        \"fieldType\": \"NUMERIC\"\n",
    "    },\n",
    "    {\n",
    "        \"fieldName\": \"career_odds\",\n",
    "        \"fieldType\": \"NUMERIC\"\n",
    "    },\n",
    "    {\n",
    "        \"fieldName\": \"spells_secondup_2nd\",\n",
    "        \"fieldType\": \"NUMERIC\"\n",
    "    },\n",
    "    {\n",
    "        \"fieldName\": \"age_in_years\",\n",
    "        \"fieldType\": \"NUMERIC\"\n",
    "    },\n",
    "    {\n",
    "        \"fieldName\": \"career_starts\",\n",
    "        \"fieldType\": \"NUMERIC\"\n",
    "    },\n",
    "    {\n",
    "        \"fieldName\": \"spells_firstup_win\",\n",
    "        \"fieldType\": \"NUMERIC\"\n",
    "    },\n",
    "    {\n",
    "        \"fieldName\": \"spells_firstup_2nd\",\n",
    "        \"fieldType\": \"NUMERIC\"\n",
    "    },\n",
    "    {\n",
    "        \"fieldName\": \"rating\",\n",
    "        \"fieldType\": \"NUMERIC\"\n",
    "    },\n",
    "    {\n",
    "        \"fieldName\": \"spells_secondup_win\",\n",
    "        \"fieldType\": \"NUMERIC\"\n",
    "    },\n",
    "    {\n",
    "        \"fieldName\": \"twelve_months_roi\",\n",
    "        \"fieldType\": \"NUMERIC\"\n",
    "    },\n",
    "    {\n",
    "        \"fieldName\": \"trainer\",\n",
    "        \"fieldType\": \"CATEGORICAL\"\n",
    "    },\n",
    "    {\n",
    "        \"fieldName\": \"spells_secondup_place\",\n",
    "        \"fieldType\": \"NUMERIC\"\n",
    "    },\n",
    "    {\n",
    "        \"fieldName\": \"spells_thirdup_starts\",\n",
    "        \"fieldType\": \"NUMERIC\"\n",
    "    },\n",
    "    {\n",
    "        \"fieldName\": \"twelve_months_3rds\",\n",
    "        \"fieldType\": \"NUMERIC\"\n",
    "    },\n",
    "    {\n",
    "        \"fieldName\": \"spells_firstup_starts\",\n",
    "        \"fieldType\": \"NUMERIC\"\n",
    "    },\n",
    "    {\n",
    "        \"fieldName\": \"spells_secondup_odds\",\n",
    "        \"fieldType\": \"NUMERIC\"\n",
    "    },\n",
    "    {\n",
    "        \"fieldName\": \"twelve_months_places\",\n",
    "        \"fieldType\": \"NUMERIC\"\n",
    "    },\n",
    "    {\n",
    "        \"fieldName\": \"spells_firstup_odds\",\n",
    "        \"fieldType\": \"NUMERIC\"\n",
    "    },\n",
    "    {\n",
    "        \"fieldName\": \"spells_firstup_roi\",\n",
    "        \"fieldType\": \"NUMERIC\"\n",
    "    },\n",
    "    {\n",
    "        \"fieldName\": \"spells_firstup_3rd\",\n",
    "        \"fieldType\": \"NUMERIC\"\n",
    "    },\n",
    "    {\n",
    "        \"fieldName\": \"spells_thirdup_2nd\",\n",
    "        \"fieldType\": \"NUMERIC\"\n",
    "    },\n",
    "    {\n",
    "        \"fieldName\": \"money\",\n",
    "        \"fieldType\": \"BINARY\"\n",
    "    }   \n",
    "    ]\n",
    "}"
   ]
  },
  {
   "cell_type": "markdown",
   "metadata": {},
   "source": [
    "### Create Boto object for Machine Learning"
   ]
  },
  {
   "cell_type": "code",
   "execution_count": 81,
   "metadata": {
    "collapsed": false
   },
   "outputs": [
    {
     "name": "stderr",
     "output_type": "stream",
     "text": [
      "INFO:botocore.vendored.requests.packages.urllib3.connectionpool:Starting new HTTPS connection (1): machinelearning.us-east-1.amazonaws.com\n"
     ]
    }
   ],
   "source": [
    "ml_client = boto3.client('machinelearning')"
   ]
  },
  {
   "cell_type": "markdown",
   "metadata": {},
   "source": [
    "### Create Training Data Set - First 70% of Records"
   ]
  },
  {
   "cell_type": "code",
   "execution_count": null,
   "metadata": {
    "collapsed": true
   },
   "outputs": [],
   "source": [
    "spec = {\n",
    "    \"DataLocationS3\": 's3://ml-talk/tip_results.csv',\n",
    "    \"DataRearrangement\": json.dumps({\n",
    "        \"splitting\": {\n",
    "            \"percentBegin\": 0,\n",
    "            \"percentEnd\": 70\n",
    "        }\n",
    "    }),\n",
    "    \"DataSchema\": json.dumps(data_scheme),\n",
    "}\n",
    "\n",
    "response = ml_client.create_data_source_from_s3(\n",
    "    DataSourceId='mltalk-tips-train-%s' % calendar.timegm(time.gmtime()),\n",
    "    DataSpec=spec,\n",
    "    DataSourceName='mltalk-tips-train-%s' % calendar.timegm(time.gmtime()),\n",
    "    ComputeStatistics=True\n",
    ")\n",
    "\n",
    "train_data_source_id = response['DataSourceId']"
   ]
  },
  {
   "cell_type": "markdown",
   "metadata": {},
   "source": [
    "### Create Testing Data Set -- Last 30% of Records"
   ]
  },
  {
   "cell_type": "code",
   "execution_count": null,
   "metadata": {
    "collapsed": true
   },
   "outputs": [],
   "source": [
    "spec['DataRearrangement'] = json.dumps({\n",
    "    \"splitting\": {\n",
    "        \"percentBegin\": 70,\n",
    "        \"percentEnd\": 100\n",
    "    }\n",
    "})\n",
    "\n",
    "response = ml_client.create_data_source_from_s3(\n",
    "    DataSourceId='mltalk-tips-test-%s' % calendar.timegm(time.gmtime()),\n",
    "    DataSpec=spec,\n",
    "    DataSourceName='mltalk-tips-test-%s' % calendar.timegm(time.gmtime()),\n",
    "    ComputeStatistics=True\n",
    ")\n",
    "test_data_source_id = response['DataSourceId']"
   ]
  },
  {
   "cell_type": "markdown",
   "metadata": {},
   "source": [
    "### Create ML Model"
   ]
  },
  {
   "cell_type": "code",
   "execution_count": 83,
   "metadata": {
    "collapsed": false
   },
   "outputs": [],
   "source": [
    "response = ml_client.create_ml_model(\n",
    "    MLModelId='ml-talk-model-%s' % calendar.timegm(time.gmtime()),\n",
    "    MLModelName='ml-talk-model-%s' % calendar.timegm(time.gmtime()),\n",
    "    MLModelType='BINARY',\n",
    "    TrainingDataSourceId=train_data_source_id\n",
    ")\n",
    "print(json.dumps(response, indent=4)) \n",
    "ml_model_id = response['MLModelId']"
   ]
  },
  {
   "cell_type": "markdown",
   "metadata": {},
   "source": [
    "### Evalutate ML Model"
   ]
  },
  {
   "cell_type": "code",
   "execution_count": 85,
   "metadata": {
    "collapsed": false
   },
   "outputs": [
    {
     "name": "stderr",
     "output_type": "stream",
     "text": [
      "INFO:botocore.vendored.requests.packages.urllib3.connectionpool:Resetting dropped connection: machinelearning.us-east-1.amazonaws.com\n"
     ]
    }
   ],
   "source": [
    "response = ml_client.create_evaluation(\n",
    "    EvaluationId='ml-talk-eval-%s' % calendar.timegm(time.gmtime()),\n",
    "    EvaluationName='ml-talk-eval-%s' % calendar.timegm(time.gmtime()),\n",
    "    MLModelId=ml_model_id,\n",
    "    EvaluationDataSourceId=test_data_source_id\n",
    ")\n",
    "print(json.dumps(response, indent=4))\n",
    "evaluation_id = response['EvaluationId']"
   ]
  },
  {
   "cell_type": "markdown",
   "metadata": {},
   "source": [
    "### Get Evaluation Results"
   ]
  },
  {
   "cell_type": "code",
   "execution_count": 87,
   "metadata": {
    "collapsed": false
   },
   "outputs": [
    {
     "name": "stderr",
     "output_type": "stream",
     "text": [
      "INFO:botocore.vendored.requests.packages.urllib3.connectionpool:Resetting dropped connection: machinelearning.us-east-1.amazonaws.com\n"
     ]
    }
   ],
   "source": [
    "response = ml_client.get_evaluation(\n",
    "    EvaluationId=evaluation_id\n",
    ")\n",
    "print(json.dumps(response, indent=4, default=default))\n",
    "accuracy = response['PerformanceMetrics']['Properties']['BinaryAUC']"
   ]
  },
  {
   "cell_type": "code",
   "execution_count": 93,
   "metadata": {
    "collapsed": false
   },
   "outputs": [
    {
     "name": "stdout",
     "output_type": "stream",
     "text": [
      "Area Under Curve: 0.8400417041980808\n"
     ]
    }
   ],
   "source": [
    "print(\"Area Under Curve: %s\" % accuracy)"
   ]
  },
  {
   "cell_type": "markdown",
   "metadata": {},
   "source": [
    "### Create Real Time Endpoint"
   ]
  },
  {
   "cell_type": "code",
   "execution_count": 94,
   "metadata": {
    "collapsed": false
   },
   "outputs": [
    {
     "name": "stderr",
     "output_type": "stream",
     "text": [
      "INFO:botocore.vendored.requests.packages.urllib3.connectionpool:Resetting dropped connection: machinelearning.us-east-1.amazonaws.com\n"
     ]
    }
   ],
   "source": [
    "response = ml_client.create_realtime_endpoint(\n",
    "    MLModelId=ml_model_id\n",
    ")\n",
    "print(json.dumps(response, indent=4, default=default))\n",
    "realtime_endpoint = response['RealtimeEndpointInfo']['EndpointUrl']"
   ]
  },
  {
   "cell_type": "markdown",
   "metadata": {},
   "source": [
    "### Load Tips to Predict"
   ]
  },
  {
   "cell_type": "code",
   "execution_count": 98,
   "metadata": {
    "collapsed": true
   },
   "outputs": [],
   "source": [
    "tips_to_predict = pd.read_csv('to_predict.csv')"
   ]
  },
  {
   "cell_type": "code",
   "execution_count": 99,
   "metadata": {
    "collapsed": false
   },
   "outputs": [
    {
     "data": {
      "text/plain": [
       "44"
      ]
     },
     "execution_count": 99,
     "metadata": {},
     "output_type": "execute_result"
    }
   ],
   "source": [
    "len(tips_to_predict)"
   ]
  },
  {
   "cell_type": "code",
   "execution_count": 100,
   "metadata": {
    "collapsed": false
   },
   "outputs": [
    {
     "data": {
      "text/html": [
       "<div>\n",
       "<table border=\"1\" class=\"dataframe\">\n",
       "  <thead>\n",
       "    <tr style=\"text-align: right;\">\n",
       "      <th></th>\n",
       "      <th>twelve_months_2nds</th>\n",
       "      <th>spells_secondup_place</th>\n",
       "      <th>spells_firstup_starts</th>\n",
       "      <th>career_3rds</th>\n",
       "      <th>track</th>\n",
       "      <th>spells_firstup_win</th>\n",
       "      <th>best_bet</th>\n",
       "      <th>spells_thirdup_odds</th>\n",
       "      <th>spells_secondup_win</th>\n",
       "      <th>career_1sts</th>\n",
       "      <th>...</th>\n",
       "      <th>spells_secondup_roi</th>\n",
       "      <th>twelve_months_odds</th>\n",
       "      <th>twelve_months_roi</th>\n",
       "      <th>spells_thirdup_place</th>\n",
       "      <th>spells_thirdup_win</th>\n",
       "      <th>spells_secondup_3rd</th>\n",
       "      <th>twelve_months_starts</th>\n",
       "      <th>race_date</th>\n",
       "      <th>spells_firstup_3rd</th>\n",
       "      <th>race_time</th>\n",
       "    </tr>\n",
       "  </thead>\n",
       "  <tbody>\n",
       "    <tr>\n",
       "      <th>0</th>\n",
       "      <td>0.0</td>\n",
       "      <td>1.0</td>\n",
       "      <td>0.0</td>\n",
       "      <td>5.0</td>\n",
       "      <td>Pinjarra</td>\n",
       "      <td>0.0</td>\n",
       "      <td>False</td>\n",
       "      <td>0.0</td>\n",
       "      <td>0.0</td>\n",
       "      <td>0.0</td>\n",
       "      <td>...</td>\n",
       "      <td>100.0</td>\n",
       "      <td>0.0</td>\n",
       "      <td>1.0</td>\n",
       "      <td>1.0</td>\n",
       "      <td>0.0</td>\n",
       "      <td>2.0</td>\n",
       "      <td>7.0</td>\n",
       "      <td>2017-03-09</td>\n",
       "      <td>1.0</td>\n",
       "      <td>NaN</td>\n",
       "    </tr>\n",
       "    <tr>\n",
       "      <th>1</th>\n",
       "      <td>0.0</td>\n",
       "      <td>0.0</td>\n",
       "      <td>0.0</td>\n",
       "      <td>0.0</td>\n",
       "      <td>Pinjarra</td>\n",
       "      <td>0.0</td>\n",
       "      <td>False</td>\n",
       "      <td>0.0</td>\n",
       "      <td>0.0</td>\n",
       "      <td>0.0</td>\n",
       "      <td>...</td>\n",
       "      <td>0.0</td>\n",
       "      <td>0.0</td>\n",
       "      <td>0.0</td>\n",
       "      <td>0.0</td>\n",
       "      <td>0.0</td>\n",
       "      <td>0.0</td>\n",
       "      <td>0.0</td>\n",
       "      <td>2017-03-09</td>\n",
       "      <td>0.0</td>\n",
       "      <td>NaN</td>\n",
       "    </tr>\n",
       "    <tr>\n",
       "      <th>2</th>\n",
       "      <td>1.0</td>\n",
       "      <td>0.0</td>\n",
       "      <td>0.0</td>\n",
       "      <td>0.0</td>\n",
       "      <td>Pinjarra</td>\n",
       "      <td>0.0</td>\n",
       "      <td>False</td>\n",
       "      <td>0.0</td>\n",
       "      <td>0.0</td>\n",
       "      <td>0.0</td>\n",
       "      <td>...</td>\n",
       "      <td>0.0</td>\n",
       "      <td>0.0</td>\n",
       "      <td>1.0</td>\n",
       "      <td>0.0</td>\n",
       "      <td>0.0</td>\n",
       "      <td>0.0</td>\n",
       "      <td>1.0</td>\n",
       "      <td>2017-03-09</td>\n",
       "      <td>0.0</td>\n",
       "      <td>NaN</td>\n",
       "    </tr>\n",
       "  </tbody>\n",
       "</table>\n",
       "<p>3 rows × 53 columns</p>\n",
       "</div>"
      ],
      "text/plain": [
       "   twelve_months_2nds  spells_secondup_place  spells_firstup_starts  \\\n",
       "0                 0.0                    1.0                    0.0   \n",
       "1                 0.0                    0.0                    0.0   \n",
       "2                 1.0                    0.0                    0.0   \n",
       "\n",
       "   career_3rds     track  spells_firstup_win best_bet  spells_thirdup_odds  \\\n",
       "0          5.0  Pinjarra                 0.0    False                  0.0   \n",
       "1          0.0  Pinjarra                 0.0    False                  0.0   \n",
       "2          0.0  Pinjarra                 0.0    False                  0.0   \n",
       "\n",
       "   spells_secondup_win  career_1sts    ...      spells_secondup_roi  \\\n",
       "0                  0.0          0.0    ...                    100.0   \n",
       "1                  0.0          0.0    ...                      0.0   \n",
       "2                  0.0          0.0    ...                      0.0   \n",
       "\n",
       "   twelve_months_odds  twelve_months_roi spells_thirdup_place  \\\n",
       "0                 0.0                1.0                  1.0   \n",
       "1                 0.0                0.0                  0.0   \n",
       "2                 0.0                1.0                  0.0   \n",
       "\n",
       "   spells_thirdup_win  spells_secondup_3rd twelve_months_starts   race_date  \\\n",
       "0                 0.0                  2.0                  7.0  2017-03-09   \n",
       "1                 0.0                  0.0                  0.0  2017-03-09   \n",
       "2                 0.0                  0.0                  1.0  2017-03-09   \n",
       "\n",
       "   spells_firstup_3rd  race_time  \n",
       "0                 1.0        NaN  \n",
       "1                 0.0        NaN  \n",
       "2                 0.0        NaN  \n",
       "\n",
       "[3 rows x 53 columns]"
      ]
     },
     "execution_count": 100,
     "metadata": {},
     "output_type": "execute_result"
    }
   ],
   "source": [
    "tips_to_predict.head(n=3)"
   ]
  },
  {
   "cell_type": "markdown",
   "metadata": {},
   "source": [
    "### Predict Tips"
   ]
  },
  {
   "cell_type": "code",
   "execution_count": 120,
   "metadata": {
    "collapsed": false
   },
   "outputs": [
    {
     "name": "stderr",
     "output_type": "stream",
     "text": [
      "INFO:botocore.vendored.requests.packages.urllib3.connectionpool:Starting new HTTPS connection (6): realtime.machinelearning.us-east-1.amazonaws.com\n"
     ]
    },
    {
     "name": "stdout",
     "output_type": "stream",
     "text": [
      "Track: Pinjarra\tRace Num: 1\tHorse: Senorita Bonita\tPrediction: 0 Score: 0.005035972688347101\n",
      "Track: Pinjarra\tRace Num: 2\tHorse: Bold Victory\tPrediction: 0 Score: 0.16532261669635773\n",
      "Track: Pinjarra\tRace Num: 3\tHorse: Blackline\tPrediction: 0 Score: 0.011883668601512909\n",
      "Track: Pinjarra\tRace Num: 4\tHorse: Golgotha\tPrediction: 0 Score: 0.0025537314359098673\n",
      "Track: Pinjarra\tRace Num: 5\tHorse: At The Ready\tPrediction: 1 Score: 0.5519466400146484\n",
      "Track: Pinjarra\tRace Num: 6\tHorse: Universal Moon\tPrediction: 0 Score: 0.005886865314096212\n",
      "Track: Pinjarra\tRace Num: 7\tHorse: Mega Minx\tPrediction: 0 Score: 0.23770137131214142\n",
      "Track: Pinjarra\tRace Num: 8\tHorse: Salty\tPrediction: 0 Score: 0.07234450429677963\n",
      "Track: Muswellbrook\tRace Num: 1\tHorse: Miss Victa\tPrediction: 0 Score: 0.26420512795448303\n",
      "Track: Muswellbrook\tRace Num: 2\tHorse: Gone To Paris\tPrediction: 0 Score: 0.006547232624143362\n",
      "Track: Muswellbrook\tRace Num: 3\tHorse: Gai’s Quest\tPrediction: 0 Score: 0.4704824388027191\n",
      "Track: Muswellbrook\tRace Num: 4\tHorse: Dalmatia Prince\tPrediction: 0 Score: 0.04437984898686409\n",
      "Track: Muswellbrook\tRace Num: 5\tHorse: Rokda Kasba\tPrediction: 0 Score: 0.005251038353890181\n",
      "Track: Muswellbrook\tRace Num: 6\tHorse: The Bohemian\tPrediction: 0 Score: 0.1709250658750534\n",
      "Track: Muswellbrook\tRace Num: 7\tHorse: Courtly\tPrediction: 0 Score: 0.11450128257274628\n",
      "Track: Muswellbrook\tRace Num: 8\tHorse: Cool Dragon\tPrediction: 0 Score: 0.008632318116724491\n",
      "Track: Rockhampton\tRace Num: 1\tHorse: Poetic Luck\tPrediction: 0 Score: 0.19258183240890503\n",
      "Track: Rockhampton\tRace Num: 2\tHorse: Donava\tPrediction: 0 Score: 0.446152001619339\n",
      "Track: Rockhampton\tRace Num: 3\tHorse: Allround Glory\tPrediction: 0 Score: 0.008227494545280933\n",
      "Track: Rockhampton\tRace Num: 4\tHorse: Nature’s Way\tPrediction: 0 Score: 0.32725632190704346\n",
      "Track: Rockhampton\tRace Num: 5\tHorse: Rooi Roe\tPrediction: 0 Score: 0.49781304597854614\n",
      "Track: Rockhampton\tRace Num: 6\tHorse: All Host\tPrediction: 0 Score: 0.0008307839161716402\n",
      "Track: Rockhampton\tRace Num: 7\tHorse: Shigzag\tPrediction: 0 Score: 0.045079220086336136\n",
      "Track: Rockhampton\tRace Num: 8\tHorse: Fondue\tPrediction: 0 Score: 0.0007134265033528209\n",
      "Track: Seymour\tRace Num: 1\tHorse: Pat’s Lad\tPrediction: 1 Score: 0.5826799869537354\n",
      "Track: Seymour\tRace Num: 2\tHorse: Bidwee\tPrediction: 0 Score: 0.012865668162703514\n",
      "Track: Seymour\tRace Num: 3\tHorse: Swiss Coin\tPrediction: 0 Score: 0.005293695256114006\n",
      "Track: Seymour\tRace Num: 4\tHorse: Beach Fighter\tPrediction: 0 Score: 0.22370265424251556\n",
      "Track: Seymour\tRace Num: 5\tHorse: Prince Of Babylon\tPrediction: 0 Score: 0.1526060551404953\n",
      "Track: Seymour\tRace Num: 6\tHorse: Mr Bandit Country\tPrediction: 0 Score: 0.04232146590948105\n",
      "Track: Seymour\tRace Num: 7\tHorse: Goldclip\tPrediction: 0 Score: 0.002655284944921732\n",
      "Track: Seymour\tRace Num: 8\tHorse: Grey Sambucca\tPrediction: 0 Score: 0.13979868590831757\n",
      "Track: Pakenham\tRace Num: 1\tHorse: Kailua\tPrediction: 0 Score: 0.018866557627916336\n",
      "Track: Pakenham\tRace Num: 2\tHorse: Justiceforall\tPrediction: 0 Score: 0.18346473574638367\n",
      "Track: Pakenham\tRace Num: 3\tHorse: Call It A Day\tPrediction: 0 Score: 0.009305119514465332\n",
      "Track: Pakenham\tRace Num: 4\tHorse: Heart Of Class\tPrediction: 0 Score: 0.005381363444030285\n",
      "Track: Pakenham\tRace Num: 5\tHorse: Nic Nac\tPrediction: 0 Score: 0.27228936553001404\n",
      "Track: Pakenham\tRace Num: 6\tHorse: Star Impulse\tPrediction: 0 Score: 0.002959268167614937\n",
      "Track: Pakenham\tRace Num: 7\tHorse: Hokkaido\tPrediction: 0 Score: 0.18480060994625092\n",
      "Track: Pakenham\tRace Num: 8\tHorse: Le Boss\tPrediction: 0 Score: 0.15747995674610138\n",
      "Track: Seymour\tRace Num: 3\tHorse: Liquid Man\tPrediction: 0 Score: 0.009976412169635296\n",
      "Track: Seymour\tRace Num: 4\tHorse: High Hopper\tPrediction: 0 Score: 0.15112681686878204\n",
      "Track: Muswellbrook\tRace Num: 5\tHorse: Rokda Kasba\tPrediction: 0 Score: 0.004000787623226643\n",
      "Track: Pakenham\tRace Num: 3\tHorse: Call It A Day\tPrediction: 0 Score: 0.007096495479345322\n"
     ]
    }
   ],
   "source": [
    "all_predictions = []\n",
    "for idx, tip in tips_to_predict.iterrows():\n",
    "    tip_dict = tip.to_dict()\n",
    "    for key in tip_dict:\n",
    "        tip_dict[key] = str(tip_dict[key])\n",
    "\n",
    "    response = ml_client.predict(\n",
    "        MLModelId=ml_model_id,\n",
    "        Record=tip_dict,\n",
    "        PredictEndpoint=realtime_endpoint\n",
    "    )\n",
    "    all_predictions.append(response['Prediction']['predictedLabel'])\n",
    "    print(\"Track: %s\\tRace Num: %s\\tHorse: %s\\tPrediction: %s Score: %s\" % (tip['track'], tip['race_number'], tip['horse'], response['Prediction']['predictedLabel'], response['Prediction']['predictedScores'][response['Prediction']['predictedLabel']]))"
   ]
  },
  {
   "cell_type": "markdown",
   "metadata": {},
   "source": [
    "### Make some bets"
   ]
  },
  {
   "cell_type": "code",
   "execution_count": 118,
   "metadata": {
    "collapsed": false
   },
   "outputs": [
    {
     "name": "stdout",
     "output_type": "stream",
     "text": [
      "Track: Pinjarra\tRace Num: 5\tHorse: At The Ready\n",
      "Track: Seymour\tRace Num: 1\tHorse: Pat’s Lad\n"
     ]
    }
   ],
   "source": [
    "for idx, tip in tips_to_predict.iterrows():\n",
    "    if all_predictions[idx] == '1':\n",
    "            print(\"Track: %s\\tRace Num: %s\\tHorse: %s\" % (tip['track'], tip['race_number'], tip['horse']))"
   ]
  },
  {
   "cell_type": "markdown",
   "metadata": {},
   "source": [
    "#### Seymour Race 1 Results:\n",
    "\n",
    "1st - 5 Bouffon\n",
    "\n",
    "2nd - 7 Fashionedinheaven\n",
    "\n",
    "3rd - 2 Pat's Lad\t\t\t\t"
   ]
  },
  {
   "cell_type": "markdown",
   "metadata": {},
   "source": [
    "## Other Links\n",
    "\n",
    "- https://mljar.com/ -- Powered by EC2, upload your dataset and receive back scikit-learn models with tuned params\n"
   ]
  }
 ],
 "metadata": {
  "kernelspec": {
   "display_name": "Python 3",
   "language": "python",
   "name": "python3"
  },
  "language_info": {
   "codemirror_mode": {
    "name": "ipython",
    "version": 3
   },
   "file_extension": ".py",
   "mimetype": "text/x-python",
   "name": "python",
   "nbconvert_exporter": "python",
   "pygments_lexer": "ipython3",
   "version": "3.5.2+"
  }
 },
 "nbformat": 4,
 "nbformat_minor": 2
}
